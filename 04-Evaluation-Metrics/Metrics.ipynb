{
 "cells": [
  {
   "cell_type": "code",
   "execution_count": null,
   "id": "d171275a-2bd2-49fc-a90c-48c68e2f0e87",
   "metadata": {},
   "outputs": [],
   "source": [
    "import numpy as np\n",
    "import pandas as pd\n",
    "\n",
    "import matplotlib.pyplot as plt\n",
    "\n",
    "from sklearn.model_selection import train_test_split\n",
    "from sklearn.feature_extraction import DictVectorizer\n",
    "from sklearn.linear_model import LogisticRegression"
   ]
  },
  {
   "cell_type": "code",
   "execution_count": null,
   "id": "0f2472cc-128c-46dc-aba9-1363fe8f718e",
   "metadata": {},
   "outputs": [],
   "source": [
    "data = pd.read_csv('data/WA_Fn-UseC_-Telco-Customer-Churn.csv')"
   ]
  },
  {
   "cell_type": "code",
   "execution_count": null,
   "id": "8eaf3b36-64bf-457c-b4fb-f582f02b619b",
   "metadata": {},
   "outputs": [],
   "source": [
    "data.columns = data.columns.str.lower().str.replace(' ', '_')\n",
    "categoricals = list(data.dtypes[data.dtypes == 'object'].index)\n",
    "for c in categoricals:\n",
    "    data[c] = data[c].str.lower().str.replace(' ', '_')\n",
    "    \n",
    "data['totalcharges'] = pd.to_numeric(data['totalcharges'], errors='coerce')\n",
    "data.totalcharges = data.totalcharges.fillna(0)\n",
    "\n",
    "churn = (data.churn == 'yes').astype('int')\n",
    "data.churn = churn"
   ]
  },
  {
   "cell_type": "code",
   "execution_count": null,
   "id": "00a2aa7f-7d40-47d7-beef-e5d4a7eaf9ff",
   "metadata": {},
   "outputs": [],
   "source": [
    "numerical = ['tenure', 'monthlycharges', 'totalcharges']\n",
    "categorical = ['gender', 'seniorcitizen', 'partner', 'dependents',\n",
    "        'phoneservice', 'multiplelines', 'internetservice',\n",
    "       'onlinesecurity', 'onlinebackup', 'deviceprotection', 'techsupport',\n",
    "       'streamingtv', 'streamingmovies', 'contract', 'paperlessbilling',\n",
    "       'paymentmethod']"
   ]
  },
  {
   "cell_type": "code",
   "execution_count": null,
   "id": "65720101-882d-4e02-801f-b5fd733b045d",
   "metadata": {},
   "outputs": [],
   "source": [
    "df_full_train, df_test = train_test_split(data, test_size=0.2, random_state=1)\n",
    "df_train, df_val = train_test_split(df_full_train, test_size=0.25, random_state=1)\n",
    "\n",
    "df_train = df_train.reset_index(drop=True)\n",
    "df_val = df_val.reset_index(drop=True)\n",
    "df_test = df_test.reset_index(drop=True)\n",
    "\n",
    "y_train = df_train.churn.values\n",
    "y_val = df_val.churn.values\n",
    "y_test = df_test.churn.values\n",
    "\n",
    "del df_train['churn']\n",
    "del df_val['churn']\n",
    "del df_test['churn']"
   ]
  },
  {
   "cell_type": "code",
   "execution_count": null,
   "id": "2dbab9cb-3785-4824-a584-6dd7399994a6",
   "metadata": {},
   "outputs": [],
   "source": [
    "dv = DictVectorizer(sparse=False)\n",
    "X_train = dv.fit_transform(df_train[categorical + numerical].to_dict(orient='records'))\n",
    "X_val = dv.transform(df_val[categorical + numerical].to_dict(orient='records'))"
   ]
  },
  {
   "cell_type": "code",
   "execution_count": null,
   "id": "bed818ac-8cde-4287-9220-19c03104edef",
   "metadata": {},
   "outputs": [
    {
     "name": "stderr",
     "output_type": "stream",
     "text": [
      "/Users/abhisheksharma/mambaforge/lib/python3.10/site-packages/sklearn/linear_model/_logistic.py:814: ConvergenceWarning: lbfgs failed to converge (status=1):\n",
      "STOP: TOTAL NO. of ITERATIONS REACHED LIMIT.\n",
      "\n",
      "Increase the number of iterations (max_iter) or scale the data as shown in:\n",
      "    https://scikit-learn.org/stable/modules/preprocessing.html\n",
      "Please also refer to the documentation for alternative solver options:\n",
      "    https://scikit-learn.org/stable/modules/linear_model.html#logistic-regression\n",
      "  n_iter_i = _check_optimize_result(\n"
     ]
    },
    {
     "data": {
      "text/plain": [
       "0.8026969481902059"
      ]
     },
     "execution_count": null,
     "metadata": {},
     "output_type": "execute_result"
    }
   ],
   "source": [
    "lr = LogisticRegression()\n",
    "lr.fit(X_train, y_train)\n",
    "\n",
    "y_pred = lr.predict_proba(X_val)[:, 1]\n",
    "churn_decision = y_pred > 0.5\n",
    "accuracy = (y_val == churn_decision).mean()\n",
    "accuracy"
   ]
  },
  {
   "cell_type": "code",
   "execution_count": null,
   "id": "35537dbb-610e-47ed-a4dc-8ecb95cef099",
   "metadata": {},
   "outputs": [
    {
     "name": "stdout",
     "output_type": "stream",
     "text": [
      "For threhold 0.00, the score is:  0.274\n",
      "For threhold 0.05, the score is:  0.508\n",
      "For threhold 0.10, the score is:  0.592\n",
      "For threhold 0.15, the score is:  0.667\n",
      "For threhold 0.20, the score is:  0.710\n",
      "For threhold 0.25, the score is:  0.738\n",
      "For threhold 0.30, the score is:  0.760\n",
      "For threhold 0.35, the score is:  0.772\n",
      "For threhold 0.40, the score is:  0.786\n",
      "For threhold 0.45, the score is:  0.793\n",
      "For threhold 0.50, the score is:  0.803\n",
      "For threhold 0.55, the score is:  0.801\n",
      "For threhold 0.60, the score is:  0.795\n",
      "For threhold 0.65, the score is:  0.786\n",
      "For threhold 0.70, the score is:  0.765\n",
      "For threhold 0.75, the score is:  0.744\n",
      "For threhold 0.80, the score is:  0.735\n",
      "For threhold 0.85, the score is:  0.726\n",
      "For threhold 0.90, the score is:  0.726\n",
      "For threhold 0.95, the score is:  0.726\n",
      "For threhold 1.00, the score is:  0.726\n"
     ]
    }
   ],
   "source": [
    "thresholds = np.linspace(0, 1, 21)\n",
    "scores = []\n",
    "\n",
    "for t in thresholds:\n",
    "    churn_decision = y_pred > t\n",
    "    score = (y_val == churn_decision).mean()\n",
    "    scores.append(score)\n",
    "    print(f\"For threhold {t:.2f}, the score is: {score: .3f}\") "
   ]
  },
  {
   "cell_type": "code",
   "execution_count": null,
   "id": "79264882-54a3-4116-b24b-66bece070543",
   "metadata": {},
   "outputs": [
    {
     "data": {
      "image/png": "[encoded data removed]",
      "text/plain": [
       "<Figure size 640x480 with 1 Axes>"
      ]
     },
     "metadata": {},
     "output_type": "display_data"
    }
   ],
   "source": [
    "plt.plot(thresholds, scores);"
   ]
  },
  {
   "cell_type": "code",
   "execution_count": null,
   "id": "b3af7b75-5440-4369-ae64-90fa135629d0",
   "metadata": {},
   "outputs": [],
   "source": [
    "from sklearn.metrics import accuracy_score"
   ]
  },
  {
   "cell_type": "code",
   "execution_count": null,
   "id": "fe523d43-6850-4574-8d42-1cef59a59242",
   "metadata": {},
   "outputs": [
    {
     "name": "stdout",
     "output_type": "stream",
     "text": [
      "For threhold 0.00, the score is:  0.274\n",
      "For threhold 0.05, the score is:  0.508\n",
      "For threhold 0.10, the score is:  0.592\n",
      "For threhold 0.15, the score is:  0.667\n",
      "For threhold 0.20, the score is:  0.710\n",
      "For threhold 0.25, the score is:  0.738\n",
      "For threhold 0.30, the score is:  0.760\n",
      "For threhold 0.35, the score is:  0.772\n",
      "For threhold 0.40, the score is:  0.786\n",
      "For threhold 0.45, the score is:  0.793\n",
      "For threhold 0.50, the score is:  0.803\n",
      "For threhold 0.55, the score is:  0.801\n",
      "For threhold 0.60, the score is:  0.795\n",
      "For threhold 0.65, the score is:  0.786\n",
      "For threhold 0.70, the score is:  0.765\n",
      "For threhold 0.75, the score is:  0.744\n",
      "For threhold 0.80, the score is:  0.735\n",
      "For threhold 0.85, the score is:  0.726\n",
      "For threhold 0.90, the score is:  0.726\n",
      "For threhold 0.95, the score is:  0.726\n",
      "For threhold 1.00, the score is:  0.726\n"
     ]
    }
   ],
   "source": [
    "thresholds = np.linspace(0, 1, 21)\n",
    "scores = []\n",
    "\n",
    "for t in thresholds:\n",
    "    churn_decision = y_pred > t\n",
    "    score = accuracy_score(y_val, churn_decision)\n",
    "    scores.append(score)\n",
    "    print(f\"For threhold {t:.2f}, the score is: {score: .3f}\") "
   ]
  },
  {
   "cell_type": "code",
   "execution_count": null,
   "id": "14079996-03cd-4455-9e38-ef01d6ed0d55",
   "metadata": {},
   "outputs": [
    {
     "data": {
      "text/plain": [
       "array([False, False, False, ..., False, False, False])"
      ]
     },
     "execution_count": null,
     "metadata": {},
     "output_type": "execute_result"
    }
   ],
   "source": [
    "(y_pred > 1.0)"
   ]
  },
  {
   "cell_type": "code",
   "execution_count": null,
   "id": "b7942e0c-d680-4dd7-95b9-448913a46cef",
   "metadata": {},
   "outputs": [
    {
     "data": {
      "text/plain": [
       "Counter({False: 1409})"
      ]
     },
     "execution_count": null,
     "metadata": {},
     "output_type": "execute_result"
    }
   ],
   "source": [
    "from collections import Counter\n",
    "\n",
    "Counter(y_pred > 1.0)"
   ]
  },
  {
   "cell_type": "markdown",
   "id": "a1635acb-c78f-46dc-8a3e-c62ec12febe7",
   "metadata": {},
   "source": [
    "### Confusion Table"
   ]
  },
  {
   "cell_type": "code",
   "execution_count": null,
   "id": "b2b390b1-778d-4efc-a9c0-4183304edc72",
   "metadata": {},
   "outputs": [],
   "source": [
    "actual_positive = (y_val == 1)\n",
    "actual_negative = (y_val == 0)"
   ]
  },
  {
   "cell_type": "code",
   "execution_count": null,
   "id": "42d82044-7476-4bab-89cb-373e5a6a3ab2",
   "metadata": {},
   "outputs": [],
   "source": [
    "t = 0.5\n",
    "pred_positive = (y_pred >= t)\n",
    "pred_negative = (y_pred < t)"
   ]
  },
  {
   "cell_type": "code",
   "execution_count": null,
   "id": "ac04439a-13d5-412a-b66d-75d225bc2fc2",
   "metadata": {},
   "outputs": [],
   "source": [
    "tp = (actual_positive & pred_positive).sum()\n",
    "tn = (actual_negative & pred_negative).sum()"
   ]
  },
  {
   "cell_type": "code",
   "execution_count": null,
   "id": "51bb963f-2a7f-4763-bbc1-0091409ff53b",
   "metadata": {},
   "outputs": [
    {
     "data": {
      "text/plain": [
       "(210, 921)"
      ]
     },
     "execution_count": null,
     "metadata": {},
     "output_type": "execute_result"
    }
   ],
   "source": [
    "tp, tn"
   ]
  },
  {
   "cell_type": "code",
   "execution_count": null,
   "id": "d1fe822d-14d0-4e86-a090-147ed9b3cda3",
   "metadata": {},
   "outputs": [],
   "source": [
    "fp = (actual_negative & pred_positive).sum()\n",
    "fn = (actual_positive & pred_negative).sum()"
   ]
  },
  {
   "cell_type": "code",
   "execution_count": null,
   "id": "69e0ec26-ec6b-44c6-b91e-c2c2c58b6909",
   "metadata": {},
   "outputs": [
    {
     "data": {
      "text/plain": [
       "(102, 176)"
      ]
     },
     "execution_count": null,
     "metadata": {},
     "output_type": "execute_result"
    }
   ],
   "source": [
    "fp, fn"
   ]
  },
  {
   "cell_type": "code",
   "execution_count": null,
   "id": "2679e733-20e6-461b-921a-12a359dbc705",
   "metadata": {},
   "outputs": [
    {
     "data": {
      "text/plain": [
       "array([[921, 102],\n",
       "       [176, 210]])"
      ]
     },
     "execution_count": null,
     "metadata": {},
     "output_type": "execute_result"
    }
   ],
   "source": [
    "confusion_matrix = np.array([\n",
    "    [tn, fp],\n",
    "    [fn, tp]\n",
    "])\n",
    "confusion_matrix"
   ]
  },
  {
   "cell_type": "code",
   "execution_count": null,
   "id": "0fca9600-2160-47ae-8033-e8b5b0403080",
   "metadata": {},
   "outputs": [
    {
     "data": {
      "text/plain": [
       "array([[0.6537, 0.0724],\n",
       "       [0.1249, 0.149 ]])"
      ]
     },
     "execution_count": null,
     "metadata": {},
     "output_type": "execute_result"
    }
   ],
   "source": [
    "(confusion_matrix / confusion_matrix.sum()).round(4)"
   ]
  },
  {
   "cell_type": "markdown",
   "id": "8b5277f6-8498-48d7-9560-89bb27372b54",
   "metadata": {},
   "source": [
    "### Precision and Recall"
   ]
  },
  {
   "cell_type": "code",
   "execution_count": null,
   "id": "ef25ef52-a1d4-4701-9e8a-9dccd29ee595",
   "metadata": {},
   "outputs": [
    {
     "data": {
      "text/plain": [
       "0.6730769230769231"
      ]
     },
     "execution_count": null,
     "metadata": {},
     "output_type": "execute_result"
    }
   ],
   "source": [
    "p = tp / (tp + fp)\n",
    "p"
   ]
  },
  {
   "cell_type": "code",
   "execution_count": null,
   "id": "381595d8-b93b-466d-b467-115e18a81869",
   "metadata": {},
   "outputs": [
    {
     "data": {
      "text/plain": [
       "0.5440414507772021"
      ]
     },
     "execution_count": null,
     "metadata": {},
     "output_type": "execute_result"
    }
   ],
   "source": [
    "r = tp / (tp + fn)\n",
    "r"
   ]
  },
  {
   "cell_type": "markdown",
   "id": "e4fe5441-339d-49a2-95c0-16cde7b74e1f",
   "metadata": {},
   "source": [
    "### ROC Curves\n",
    "\n",
    "#### TPR and FPR"
   ]
  },
  {
   "cell_type": "code",
   "execution_count": null,
   "id": "be18e63c-6926-42b3-9994-19f23b255f7e",
   "metadata": {},
   "outputs": [
    {
     "data": {
      "text/plain": [
       "0.5440414507772021"
      ]
     },
     "execution_count": null,
     "metadata": {},
     "output_type": "execute_result"
    }
   ],
   "source": [
    "tpr = tp / (tp + fn)\n",
    "tpr"
   ]
  },
  {
   "cell_type": "code",
   "execution_count": null,
   "id": "08e50cec-3747-4a8c-912b-7fbeb066991d",
   "metadata": {},
   "outputs": [
    {
     "data": {
      "text/plain": [
       "0.5440414507772021"
      ]
     },
     "execution_count": null,
     "metadata": {},
     "output_type": "execute_result"
    }
   ],
   "source": [
    "r"
   ]
  },
  {
   "cell_type": "code",
   "execution_count": null,
   "id": "d775cdfe-fbaa-4d42-82fb-df2a4b180a0e",
   "metadata": {},
   "outputs": [
    {
     "data": {
      "text/plain": [
       "0.09970674486803519"
      ]
     },
     "execution_count": null,
     "metadata": {},
     "output_type": "execute_result"
    }
   ],
   "source": [
    "fpr = fp / (tn + fp)\n",
    "fpr"
   ]
  },
  {
   "cell_type": "code",
   "execution_count": null,
   "id": "2851274a-dcad-456b-9026-686df09fafd7",
   "metadata": {},
   "outputs": [],
   "source": [
    "thresholds = np.linspace(0, 1, 101)\n",
    "scores = []\n",
    "\n",
    "for t in thresholds:\n",
    "    actual_positive = (y_val == 1)\n",
    "    actual_negative = (y_val == 0)\n",
    "    pred_positive = (y_pred >= t)\n",
    "    pred_negative = (y_pred < t)\n",
    "    \n",
    "    tp = (actual_positive & pred_positive).sum()\n",
    "    tn = (actual_negative & pred_negative).sum()\n",
    "    fp = (actual_negative & pred_positive).sum()\n",
    "    fn = (actual_positive & pred_negative).sum()\n",
    "    scores.append((t, tp, fp, fn, tn ))"
   ]
  },
  {
   "cell_type": "code",
   "execution_count": null,
   "id": "9c539031-f576-4a3d-8451-590c7cfc6f72",
   "metadata": {},
   "outputs": [
    {
     "data": {
      "text/html": [
       "<div>\n",
       "<style scoped>\n",
       "    .dataframe tbody tr th:only-of-type {\n",
       "        vertical-align: middle;\n",
       "    }\n",
       "\n",
       "    .dataframe tbody tr th {\n",
       "        vertical-align: top;\n",
       "    }\n",
       "\n",
       "    .dataframe thead th {\n",
       "        text-align: right;\n",
       "    }\n",
       "</style>\n",
       "<table border=\"1\" class=\"dataframe\">\n",
       "  <thead>\n",
       "    <tr style=\"text-align: right;\">\n",
       "      <th></th>\n",
       "      <th>threshold</th>\n",
       "      <th>TP</th>\n",
       "      <th>FP</th>\n",
       "      <th>FN</th>\n",
       "      <th>TN</th>\n",
       "    </tr>\n",
       "  </thead>\n",
       "  <tbody>\n",
       "    <tr>\n",
       "      <th>0</th>\n",
       "      <td>0.0</td>\n",
       "      <td>386</td>\n",
       "      <td>1023</td>\n",
       "      <td>0</td>\n",
       "      <td>0</td>\n",
       "    </tr>\n",
       "    <tr>\n",
       "      <th>10</th>\n",
       "      <td>0.1</td>\n",
       "      <td>366</td>\n",
       "      <td>555</td>\n",
       "      <td>20</td>\n",
       "      <td>468</td>\n",
       "    </tr>\n",
       "    <tr>\n",
       "      <th>20</th>\n",
       "      <td>0.2</td>\n",
       "      <td>333</td>\n",
       "      <td>356</td>\n",
       "      <td>53</td>\n",
       "      <td>667</td>\n",
       "    </tr>\n",
       "    <tr>\n",
       "      <th>30</th>\n",
       "      <td>0.3</td>\n",
       "      <td>284</td>\n",
       "      <td>236</td>\n",
       "      <td>102</td>\n",
       "      <td>787</td>\n",
       "    </tr>\n",
       "    <tr>\n",
       "      <th>40</th>\n",
       "      <td>0.4</td>\n",
       "      <td>249</td>\n",
       "      <td>165</td>\n",
       "      <td>137</td>\n",
       "      <td>858</td>\n",
       "    </tr>\n",
       "    <tr>\n",
       "      <th>50</th>\n",
       "      <td>0.5</td>\n",
       "      <td>210</td>\n",
       "      <td>102</td>\n",
       "      <td>176</td>\n",
       "      <td>921</td>\n",
       "    </tr>\n",
       "    <tr>\n",
       "      <th>60</th>\n",
       "      <td>0.6</td>\n",
       "      <td>150</td>\n",
       "      <td>53</td>\n",
       "      <td>236</td>\n",
       "      <td>970</td>\n",
       "    </tr>\n",
       "    <tr>\n",
       "      <th>70</th>\n",
       "      <td>0.7</td>\n",
       "      <td>75</td>\n",
       "      <td>20</td>\n",
       "      <td>311</td>\n",
       "      <td>1003</td>\n",
       "    </tr>\n",
       "    <tr>\n",
       "      <th>80</th>\n",
       "      <td>0.8</td>\n",
       "      <td>13</td>\n",
       "      <td>1</td>\n",
       "      <td>373</td>\n",
       "      <td>1022</td>\n",
       "    </tr>\n",
       "    <tr>\n",
       "      <th>90</th>\n",
       "      <td>0.9</td>\n",
       "      <td>0</td>\n",
       "      <td>0</td>\n",
       "      <td>386</td>\n",
       "      <td>1023</td>\n",
       "    </tr>\n",
       "    <tr>\n",
       "      <th>100</th>\n",
       "      <td>1.0</td>\n",
       "      <td>0</td>\n",
       "      <td>0</td>\n",
       "      <td>386</td>\n",
       "      <td>1023</td>\n",
       "    </tr>\n",
       "  </tbody>\n",
       "</table>\n",
       "</div>"
      ],
      "text/plain": [
       "     threshold   TP    FP   FN    TN\n",
       "0          0.0  386  1023    0     0\n",
       "10         0.1  366   555   20   468\n",
       "20         0.2  333   356   53   667\n",
       "30         0.3  284   236  102   787\n",
       "40         0.4  249   165  137   858\n",
       "50         0.5  210   102  176   921\n",
       "60         0.6  150    53  236   970\n",
       "70         0.7   75    20  311  1003\n",
       "80         0.8   13     1  373  1022\n",
       "90         0.9    0     0  386  1023\n",
       "100        1.0    0     0  386  1023"
      ]
     },
     "execution_count": null,
     "metadata": {},
     "output_type": "execute_result"
    }
   ],
   "source": [
    "columns = ['threshold', 'TP', 'FP', 'FN', 'TN']\n",
    "df_score = pd.DataFrame(scores, columns=columns)\n",
    "df_score[::10]"
   ]
  },
  {
   "cell_type": "code",
   "execution_count": null,
   "id": "34d342b8-00ed-470f-989d-0ce913032f0f",
   "metadata": {},
   "outputs": [
    {
     "data": {
      "text/html": [
       "<div>\n",
       "<style scoped>\n",
       "    .dataframe tbody tr th:only-of-type {\n",
       "        vertical-align: middle;\n",
       "    }\n",
       "\n",
       "    .dataframe tbody tr th {\n",
       "        vertical-align: top;\n",
       "    }\n",
       "\n",
       "    .dataframe thead th {\n",
       "        text-align: right;\n",
       "    }\n",
       "</style>\n",
       "<table border=\"1\" class=\"dataframe\">\n",
       "  <thead>\n",
       "    <tr style=\"text-align: right;\">\n",
       "      <th></th>\n",
       "      <th>threshold</th>\n",
       "      <th>TP</th>\n",
       "      <th>FP</th>\n",
       "      <th>FN</th>\n",
       "      <th>TN</th>\n",
       "      <th>TPR</th>\n",
       "      <th>FPR</th>\n",
       "    </tr>\n",
       "  </thead>\n",
       "  <tbody>\n",
       "    <tr>\n",
       "      <th>0</th>\n",
       "      <td>0.0</td>\n",
       "      <td>386</td>\n",
       "      <td>1023</td>\n",
       "      <td>0</td>\n",
       "      <td>0</td>\n",
       "      <td>1.000000</td>\n",
       "      <td>1.000000</td>\n",
       "    </tr>\n",
       "    <tr>\n",
       "      <th>10</th>\n",
       "      <td>0.1</td>\n",
       "      <td>366</td>\n",
       "      <td>555</td>\n",
       "      <td>20</td>\n",
       "      <td>468</td>\n",
       "      <td>0.948187</td>\n",
       "      <td>0.542522</td>\n",
       "    </tr>\n",
       "    <tr>\n",
       "      <th>20</th>\n",
       "      <td>0.2</td>\n",
       "      <td>333</td>\n",
       "      <td>356</td>\n",
       "      <td>53</td>\n",
       "      <td>667</td>\n",
       "      <td>0.862694</td>\n",
       "      <td>0.347996</td>\n",
       "    </tr>\n",
       "    <tr>\n",
       "      <th>30</th>\n",
       "      <td>0.3</td>\n",
       "      <td>284</td>\n",
       "      <td>236</td>\n",
       "      <td>102</td>\n",
       "      <td>787</td>\n",
       "      <td>0.735751</td>\n",
       "      <td>0.230694</td>\n",
       "    </tr>\n",
       "    <tr>\n",
       "      <th>40</th>\n",
       "      <td>0.4</td>\n",
       "      <td>249</td>\n",
       "      <td>165</td>\n",
       "      <td>137</td>\n",
       "      <td>858</td>\n",
       "      <td>0.645078</td>\n",
       "      <td>0.161290</td>\n",
       "    </tr>\n",
       "    <tr>\n",
       "      <th>50</th>\n",
       "      <td>0.5</td>\n",
       "      <td>210</td>\n",
       "      <td>102</td>\n",
       "      <td>176</td>\n",
       "      <td>921</td>\n",
       "      <td>0.544041</td>\n",
       "      <td>0.099707</td>\n",
       "    </tr>\n",
       "    <tr>\n",
       "      <th>60</th>\n",
       "      <td>0.6</td>\n",
       "      <td>150</td>\n",
       "      <td>53</td>\n",
       "      <td>236</td>\n",
       "      <td>970</td>\n",
       "      <td>0.388601</td>\n",
       "      <td>0.051808</td>\n",
       "    </tr>\n",
       "    <tr>\n",
       "      <th>70</th>\n",
       "      <td>0.7</td>\n",
       "      <td>75</td>\n",
       "      <td>20</td>\n",
       "      <td>311</td>\n",
       "      <td>1003</td>\n",
       "      <td>0.194301</td>\n",
       "      <td>0.019550</td>\n",
       "    </tr>\n",
       "    <tr>\n",
       "      <th>80</th>\n",
       "      <td>0.8</td>\n",
       "      <td>13</td>\n",
       "      <td>1</td>\n",
       "      <td>373</td>\n",
       "      <td>1022</td>\n",
       "      <td>0.033679</td>\n",
       "      <td>0.000978</td>\n",
       "    </tr>\n",
       "    <tr>\n",
       "      <th>90</th>\n",
       "      <td>0.9</td>\n",
       "      <td>0</td>\n",
       "      <td>0</td>\n",
       "      <td>386</td>\n",
       "      <td>1023</td>\n",
       "      <td>0.000000</td>\n",
       "      <td>0.000000</td>\n",
       "    </tr>\n",
       "    <tr>\n",
       "      <th>100</th>\n",
       "      <td>1.0</td>\n",
       "      <td>0</td>\n",
       "      <td>0</td>\n",
       "      <td>386</td>\n",
       "      <td>1023</td>\n",
       "      <td>0.000000</td>\n",
       "      <td>0.000000</td>\n",
       "    </tr>\n",
       "  </tbody>\n",
       "</table>\n",
       "</div>"
      ],
      "text/plain": [
       "     threshold   TP    FP   FN    TN       TPR       FPR\n",
       "0          0.0  386  1023    0     0  1.000000  1.000000\n",
       "10         0.1  366   555   20   468  0.948187  0.542522\n",
       "20         0.2  333   356   53   667  0.862694  0.347996\n",
       "30         0.3  284   236  102   787  0.735751  0.230694\n",
       "40         0.4  249   165  137   858  0.645078  0.161290\n",
       "50         0.5  210   102  176   921  0.544041  0.099707\n",
       "60         0.6  150    53  236   970  0.388601  0.051808\n",
       "70         0.7   75    20  311  1003  0.194301  0.019550\n",
       "80         0.8   13     1  373  1022  0.033679  0.000978\n",
       "90         0.9    0     0  386  1023  0.000000  0.000000\n",
       "100        1.0    0     0  386  1023  0.000000  0.000000"
      ]
     },
     "execution_count": null,
     "metadata": {},
     "output_type": "execute_result"
    }
   ],
   "source": [
    "df_score['TPR'] = df_score['TP']/(df_score['FN'] + df_score['TP'])\n",
    "df_score['FPR'] = df_score['FP']/(df_score['TN'] + df_score['FP'])\n",
    "df_score[::10]"
   ]
  },
  {
   "cell_type": "code",
   "execution_count": null,
   "id": "b368288e-a63d-46b0-8f37-e4ae32408bec",
   "metadata": {},
   "outputs": [
    {
     "data": {
      "image/png": "[encoded data removed]",
      "text/plain": [
       "<Figure size 640x480 with 1 Axes>"
      ]
     },
     "metadata": {},
     "output_type": "display_data"
    }
   ],
   "source": [
    "plt.plot(df_score.threshold, df_score.TPR, label='TPR')\n",
    "plt.plot(df_score.threshold, df_score.FPR, label='FPR')\n",
    "plt.legend();"
   ]
  },
  {
   "cell_type": "markdown",
   "id": "0c29fb93-74e1-44ea-a81e-60818e1b1c89",
   "metadata": {},
   "source": [
    "#### Random Model"
   ]
  },
  {
   "cell_type": "code",
   "execution_count": null,
   "id": "1709060a-f29d-4a98-9d49-4a7f80c4f535",
   "metadata": {},
   "outputs": [],
   "source": [
    "def tpr_fpr_dataframe(y_val, y_pred):\n",
    "    thresholds = np.linspace(0, 1, 101)\n",
    "    scores = []\n",
    "\n",
    "    for t in thresholds:\n",
    "        actual_positive = (y_val == 1)\n",
    "        actual_negative = (y_val == 0)\n",
    "        pred_positive = (y_pred >= t)\n",
    "        pred_negative = (y_pred < t)\n",
    "\n",
    "        tp = (actual_positive & pred_positive).sum()\n",
    "        tn = (actual_negative & pred_negative).sum()\n",
    "        fp = (actual_negative & pred_positive).sum()\n",
    "        fn = (actual_positive & pred_negative).sum()\n",
    "        scores.append((t, tp, fp, fn, tn ))\n",
    "    columns = ['threshold', 'TP', 'FP', 'FN', 'TN']\n",
    "    df_score = pd.DataFrame(scores, columns=columns)\n",
    "    df_score['TPR'] = df_score['TP']/(df_score['FN'] + df_score['TP'])\n",
    "    df_score['FPR'] = df_score['FP']/(df_score['TN'] + df_score['FP'])\n",
    "    return df_score"
   ]
  },
  {
   "cell_type": "code",
   "execution_count": null,
   "id": "a566b9d6-e4cf-48ac-8bb8-ae416c397a77",
   "metadata": {},
   "outputs": [],
   "source": [
    "np.random.seed(1)\n",
    "y_rand = np.random.uniform(0, 1, size=len(y_val)).round(3)"
   ]
  },
  {
   "cell_type": "code",
   "execution_count": null,
   "id": "d9e16637-0b7b-4901-b17e-46f910c2d0f8",
   "metadata": {},
   "outputs": [],
   "source": [
    "df_rand = tpr_fpr_dataframe(y_val, y_rand)"
   ]
  },
  {
   "cell_type": "code",
   "execution_count": null,
   "id": "fb1d7ea1-ce05-48e6-a363-4fbb64071218",
   "metadata": {},
   "outputs": [
    {
     "data": {
      "image/png": "[encoded data removed]",
      "text/plain": [
       "<Figure size 640x480 with 1 Axes>"
      ]
     },
     "metadata": {},
     "output_type": "display_data"
    }
   ],
   "source": [
    "plt.plot(df_rand.threshold, df_rand.TPR, label='TPR')\n",
    "plt.plot(df_rand.threshold, df_rand.FPR, label='FPR')\n",
    "plt.legend();"
   ]
  },
  {
   "cell_type": "code",
   "execution_count": null,
   "id": "e2badf53-8d3d-4e92-9348-7e2e5225b7ac",
   "metadata": {},
   "outputs": [
    {
     "data": {
      "text/html": [
       "<div>\n",
       "<style scoped>\n",
       "    .dataframe tbody tr th:only-of-type {\n",
       "        vertical-align: middle;\n",
       "    }\n",
       "\n",
       "    .dataframe tbody tr th {\n",
       "        vertical-align: top;\n",
       "    }\n",
       "\n",
       "    .dataframe thead th {\n",
       "        text-align: right;\n",
       "    }\n",
       "</style>\n",
       "<table border=\"1\" class=\"dataframe\">\n",
       "  <thead>\n",
       "    <tr style=\"text-align: right;\">\n",
       "      <th></th>\n",
       "      <th>threshold</th>\n",
       "      <th>TP</th>\n",
       "      <th>FP</th>\n",
       "      <th>FN</th>\n",
       "      <th>TN</th>\n",
       "      <th>TPR</th>\n",
       "      <th>FPR</th>\n",
       "    </tr>\n",
       "  </thead>\n",
       "  <tbody>\n",
       "    <tr>\n",
       "      <th>0</th>\n",
       "      <td>0.00</td>\n",
       "      <td>386</td>\n",
       "      <td>1023</td>\n",
       "      <td>0</td>\n",
       "      <td>0</td>\n",
       "      <td>1.000000</td>\n",
       "      <td>1.000000</td>\n",
       "    </tr>\n",
       "    <tr>\n",
       "      <th>1</th>\n",
       "      <td>0.01</td>\n",
       "      <td>382</td>\n",
       "      <td>1013</td>\n",
       "      <td>4</td>\n",
       "      <td>10</td>\n",
       "      <td>0.989637</td>\n",
       "      <td>0.990225</td>\n",
       "    </tr>\n",
       "    <tr>\n",
       "      <th>2</th>\n",
       "      <td>0.02</td>\n",
       "      <td>379</td>\n",
       "      <td>995</td>\n",
       "      <td>7</td>\n",
       "      <td>28</td>\n",
       "      <td>0.981865</td>\n",
       "      <td>0.972630</td>\n",
       "    </tr>\n",
       "    <tr>\n",
       "      <th>3</th>\n",
       "      <td>0.03</td>\n",
       "      <td>375</td>\n",
       "      <td>979</td>\n",
       "      <td>11</td>\n",
       "      <td>44</td>\n",
       "      <td>0.971503</td>\n",
       "      <td>0.956989</td>\n",
       "    </tr>\n",
       "    <tr>\n",
       "      <th>4</th>\n",
       "      <td>0.04</td>\n",
       "      <td>372</td>\n",
       "      <td>971</td>\n",
       "      <td>14</td>\n",
       "      <td>52</td>\n",
       "      <td>0.963731</td>\n",
       "      <td>0.949169</td>\n",
       "    </tr>\n",
       "    <tr>\n",
       "      <th>...</th>\n",
       "      <td>...</td>\n",
       "      <td>...</td>\n",
       "      <td>...</td>\n",
       "      <td>...</td>\n",
       "      <td>...</td>\n",
       "      <td>...</td>\n",
       "      <td>...</td>\n",
       "    </tr>\n",
       "    <tr>\n",
       "      <th>96</th>\n",
       "      <td>0.96</td>\n",
       "      <td>14</td>\n",
       "      <td>41</td>\n",
       "      <td>372</td>\n",
       "      <td>982</td>\n",
       "      <td>0.036269</td>\n",
       "      <td>0.040078</td>\n",
       "    </tr>\n",
       "    <tr>\n",
       "      <th>97</th>\n",
       "      <td>0.97</td>\n",
       "      <td>12</td>\n",
       "      <td>36</td>\n",
       "      <td>374</td>\n",
       "      <td>987</td>\n",
       "      <td>0.031088</td>\n",
       "      <td>0.035191</td>\n",
       "    </tr>\n",
       "    <tr>\n",
       "      <th>98</th>\n",
       "      <td>0.98</td>\n",
       "      <td>8</td>\n",
       "      <td>20</td>\n",
       "      <td>378</td>\n",
       "      <td>1003</td>\n",
       "      <td>0.020725</td>\n",
       "      <td>0.019550</td>\n",
       "    </tr>\n",
       "    <tr>\n",
       "      <th>99</th>\n",
       "      <td>0.99</td>\n",
       "      <td>6</td>\n",
       "      <td>9</td>\n",
       "      <td>380</td>\n",
       "      <td>1014</td>\n",
       "      <td>0.015544</td>\n",
       "      <td>0.008798</td>\n",
       "    </tr>\n",
       "    <tr>\n",
       "      <th>100</th>\n",
       "      <td>1.00</td>\n",
       "      <td>0</td>\n",
       "      <td>0</td>\n",
       "      <td>386</td>\n",
       "      <td>1023</td>\n",
       "      <td>0.000000</td>\n",
       "      <td>0.000000</td>\n",
       "    </tr>\n",
       "  </tbody>\n",
       "</table>\n",
       "<p>101 rows × 7 columns</p>\n",
       "</div>"
      ],
      "text/plain": [
       "     threshold   TP    FP   FN    TN       TPR       FPR\n",
       "0         0.00  386  1023    0     0  1.000000  1.000000\n",
       "1         0.01  382  1013    4    10  0.989637  0.990225\n",
       "2         0.02  379   995    7    28  0.981865  0.972630\n",
       "3         0.03  375   979   11    44  0.971503  0.956989\n",
       "4         0.04  372   971   14    52  0.963731  0.949169\n",
       "..         ...  ...   ...  ...   ...       ...       ...\n",
       "96        0.96   14    41  372   982  0.036269  0.040078\n",
       "97        0.97   12    36  374   987  0.031088  0.035191\n",
       "98        0.98    8    20  378  1003  0.020725  0.019550\n",
       "99        0.99    6     9  380  1014  0.015544  0.008798\n",
       "100       1.00    0     0  386  1023  0.000000  0.000000\n",
       "\n",
       "[101 rows x 7 columns]"
      ]
     },
     "execution_count": null,
     "metadata": {},
     "output_type": "execute_result"
    }
   ],
   "source": [
    "df_rand"
   ]
  },
  {
   "cell_type": "markdown",
   "id": "63957a69-acef-46d0-9d38-46a18769518c",
   "metadata": {},
   "source": [
    "#### Ideal Model"
   ]
  },
  {
   "cell_type": "code",
   "execution_count": null,
   "id": "317b1df9-6d2e-447d-a466-a39a2e4d300b",
   "metadata": {},
   "outputs": [
    {
     "data": {
      "text/plain": [
       "(1023, 386)"
      ]
     },
     "execution_count": null,
     "metadata": {},
     "output_type": "execute_result"
    }
   ],
   "source": [
    "num_neg = (y_val == 0).sum()\n",
    "num_pos = (y_val == 1).sum()\n",
    "num_neg, num_pos"
   ]
  },
  {
   "cell_type": "code",
   "execution_count": null,
   "id": "e32ba91f-0713-432b-bbaa-8a6c4e4534a5",
   "metadata": {},
   "outputs": [],
   "source": [
    "y_ideal = np.repeat([0, 1], [num_neg, num_pos])\n",
    "y_ideal_pred = np.linspace(0, 1, len(y_val))"
   ]
  },
  {
   "cell_type": "code",
   "execution_count": null,
   "id": "5be173fe-e2f3-4331-98ee-4bb2e577084a",
   "metadata": {},
   "outputs": [],
   "source": [
    "df_ideal = tpr_fpr_dataframe(y_ideal, y_ideal_pred)"
   ]
  },
  {
   "cell_type": "code",
   "execution_count": null,
   "id": "31c9faa7-0380-4da6-af37-5dda1564ba2e",
   "metadata": {},
   "outputs": [
    {
     "data": {
      "image/png": "[encoded data removed]",
      "text/plain": [
       "<Figure size 640x480 with 1 Axes>"
      ]
     },
     "metadata": {},
     "output_type": "display_data"
    }
   ],
   "source": [
    "plt.plot(df_ideal.threshold, df_ideal.TPR, label='TPR')\n",
    "plt.plot(df_ideal.threshold, df_ideal.FPR, label='FPR')\n",
    "plt.legend();"
   ]
  },
  {
   "cell_type": "markdown",
   "id": "2c106d18-07b6-4901-9cfc-41e642a75e5f",
   "metadata": {},
   "source": [
    "#### Putting it all together"
   ]
  },
  {
   "cell_type": "code",
   "execution_count": null,
   "id": "24ef403b-8048-4560-881c-771aadffe930",
   "metadata": {},
   "outputs": [
    {
     "data": {
      "image/png": "[encoded data removed]",
      "text/plain": [
       "<Figure size 640x480 with 1 Axes>"
      ]
     },
     "metadata": {},
     "output_type": "display_data"
    }
   ],
   "source": [
    "plt.plot(df_score.threshold, df_score.TPR, label='TPR')\n",
    "plt.plot(df_score.threshold, df_score.FPR, label='FPR')\n",
    "\n",
    "plt.plot(df_ideal.threshold, df_ideal.TPR, label='TPR', color='black')\n",
    "plt.plot(df_ideal.threshold, df_ideal.FPR, label='FPR', color = 'black')\n",
    "\n",
    "plt.plot(df_rand.threshold, df_rand.TPR, label='TPR', color='red')\n",
    "plt.plot(df_rand.threshold, df_rand.FPR, label='FPR', color = 'red')\n",
    "plt.legend();"
   ]
  },
  {
   "cell_type": "code",
   "execution_count": null,
   "id": "cec2f7d0-2b69-4501-a191-dd1e54f25f61",
   "metadata": {},
   "outputs": [
    {
     "data": {
      "image/png": "[encoded data removed]",
      "text/plain": [
       "<Figure size 500x500 with 1 Axes>"
      ]
     },
     "metadata": {},
     "output_type": "display_data"
    }
   ],
   "source": [
    "plt.figure(figsize=(5, 5))\n",
    "plt.plot(df_score.FPR, df_score.TPR, label='Model')\n",
    "\n",
    "plt.plot(df_ideal.FPR, df_ideal.TPR, label='Ideal', color='black')\n",
    "\n",
    "plt.plot( df_rand.FPR, df_rand.TPR, label='Random', color='red')\n",
    "\n",
    "plt.legend();"
   ]
  },
  {
   "cell_type": "code",
   "execution_count": null,
   "id": "9c176167-9492-4ee4-99e6-715ebeed447c",
   "metadata": {},
   "outputs": [
    {
     "data": {
      "image/png": "[encoded data removed]",
      "text/plain": [
       "<Figure size 500x500 with 1 Axes>"
      ]
     },
     "metadata": {},
     "output_type": "display_data"
    }
   ],
   "source": [
    "plt.figure(figsize=(5, 5))\n",
    "plt.plot(df_score.FPR, df_score.TPR, label='Model')\n",
    "\n",
    "#plt.plot(df_ideal.FPR, df_ideal.TPR, label='Ideal', color='black')\n",
    "\n",
    "plt.plot( [0, 1], [0, 1], label='Random')\n",
    "plt.xlabel('FPR')\n",
    "plt.ylabel('TPR')\n",
    "\n",
    "plt.legend();"
   ]
  },
  {
   "cell_type": "code",
   "execution_count": null,
   "id": "ce7b1f1c-9a40-46fa-95ff-d3d6cf7739ca",
   "metadata": {},
   "outputs": [],
   "source": [
    "from sklearn.metrics import roc_curve"
   ]
  },
  {
   "cell_type": "code",
   "execution_count": null,
   "id": "790d2a2b-aee8-44b0-9b47-65983445c462",
   "metadata": {},
   "outputs": [
    {
     "data": {
      "image/png": "[encoded data removed]",
      "text/plain": [
       "<Figure size 500x500 with 1 Axes>"
      ]
     },
     "metadata": {},
     "output_type": "display_data"
    }
   ],
   "source": [
    "plt.figure(figsize=(5, 5))\n",
    "fpr, tpr, thresholds = roc_curve(y_val, y_pred)\n",
    "\n",
    "plt.plot(fpr, tpr, label='Model')\n",
    "plt.plot( [0, 1], [0, 1], label='Random', ls='--')\n",
    "plt.xlabel('FPR')\n",
    "plt.ylabel('TPR')\n",
    "\n",
    "plt.legend();"
   ]
  },
  {
   "cell_type": "markdown",
   "id": "88c71d3c-5500-4983-b9a5-daec01bc0593",
   "metadata": {},
   "source": [
    "#### Area Under ROC Curve"
   ]
  },
  {
   "cell_type": "code",
   "execution_count": null,
   "id": "0a7e1b23-4456-4fb7-92e0-ef63c96f5e5b",
   "metadata": {},
   "outputs": [],
   "source": [
    "from sklearn.metrics import auc"
   ]
  },
  {
   "cell_type": "code",
   "execution_count": null,
   "id": "f214c884-c8fb-404c-8d0b-06ac7d3d8a24",
   "metadata": {},
   "outputs": [
    {
     "data": {
      "text/plain": [
       "0.8437745328937039"
      ]
     },
     "execution_count": null,
     "metadata": {},
     "output_type": "execute_result"
    }
   ],
   "source": [
    "auc(fpr, tpr)"
   ]
  },
  {
   "cell_type": "code",
   "execution_count": null,
   "id": "8246ee01-2ca6-4eb0-bcd1-fc82688ac1ae",
   "metadata": {},
   "outputs": [
    {
     "data": {
      "text/plain": [
       "0.8437707342520981"
      ]
     },
     "execution_count": null,
     "metadata": {},
     "output_type": "execute_result"
    }
   ],
   "source": [
    "auc(df_score.FPR, df_score.TPR)"
   ]
  },
  {
   "cell_type": "code",
   "execution_count": null,
   "id": "5f5cafc3-0299-4565-baf9-6202cc68a4b7",
   "metadata": {},
   "outputs": [
    {
     "data": {
      "text/plain": [
       "0.9999430203759136"
      ]
     },
     "execution_count": null,
     "metadata": {},
     "output_type": "execute_result"
    }
   ],
   "source": [
    "auc(df_ideal.FPR, df_ideal.TPR)"
   ]
  },
  {
   "cell_type": "code",
   "execution_count": null,
   "id": "5ba9f16d-fd44-4ded-b305-123c3b575a39",
   "metadata": {},
   "outputs": [
    {
     "data": {
      "text/plain": [
       "0.5061462021181226"
      ]
     },
     "execution_count": null,
     "metadata": {},
     "output_type": "execute_result"
    }
   ],
   "source": [
    "auc(df_rand.FPR, df_rand.TPR)"
   ]
  },
  {
   "cell_type": "code",
   "execution_count": null,
   "id": "3aa429eb-4b32-4a7e-aae0-3e06e9c77365",
   "metadata": {},
   "outputs": [],
   "source": [
    "from sklearn.metrics import roc_auc_score"
   ]
  },
  {
   "cell_type": "code",
   "execution_count": null,
   "id": "3d6ed59f-314b-4b39-ad4b-3084839e1de6",
   "metadata": {},
   "outputs": [
    {
     "data": {
      "text/plain": [
       "0.8437745328937039"
      ]
     },
     "execution_count": null,
     "metadata": {},
     "output_type": "execute_result"
    }
   ],
   "source": [
    "roc_auc_score(y_val, y_pred)"
   ]
  },
  {
   "cell_type": "code",
   "execution_count": null,
   "id": "5ec1bc13-48c9-44b6-9bdc-624982b7e11a",
   "metadata": {},
   "outputs": [],
   "source": [
    "neg = y_pred[y_val == 0]\n",
    "pos = y_pred[y_val == 1]"
   ]
  },
  {
   "cell_type": "code",
   "execution_count": null,
   "id": "150830f2-2b06-488f-bb0c-435b4f4140d0",
   "metadata": {},
   "outputs": [],
   "source": [
    "import random"
   ]
  },
  {
   "cell_type": "code",
   "execution_count": null,
   "id": "8c621dfd-f7e5-4f90-8880-7cc335a34ba0",
   "metadata": {},
   "outputs": [
    {
     "data": {
      "text/plain": [
       "0.84475"
      ]
     },
     "execution_count": null,
     "metadata": {},
     "output_type": "execute_result"
    }
   ],
   "source": [
    "n = 100000\n",
    "success = 0\n",
    "\n",
    "for _ in range(n):\n",
    "    neg_index = random.randint(0, len(neg) - 1)\n",
    "    pos_index = random.randint(0, len(pos) - 1)\n",
    "    if pos[pos_index] > neg[neg_index]:\n",
    "        success += 1\n",
    "        \n",
    "success / n"
   ]
  },
  {
   "cell_type": "code",
   "execution_count": null,
   "id": "dbaf3ac4-1033-402d-8058-05fa2a515e73",
   "metadata": {},
   "outputs": [
    {
     "data": {
      "text/plain": [
       "0.84466"
      ]
     },
     "execution_count": null,
     "metadata": {},
     "output_type": "execute_result"
    }
   ],
   "source": [
    "#using numpy\n",
    "n = 100000\n",
    "np.random.seed(1)\n",
    "neg_in = np.random.randint(0, len(neg), n)\n",
    "pos_in = np.random.randint(0, len(pos), n)\n",
    "\n",
    "(pos[pos_in] > neg[neg_in]).mean()"
   ]
  },
  {
   "cell_type": "markdown",
   "id": "e6c155bd-0001-49ba-8580-562ca33608bc",
   "metadata": {},
   "source": [
    "#### Cross Validation"
   ]
  },
  {
   "cell_type": "code",
   "execution_count": null,
   "id": "da0425f1-3013-4cfa-85eb-5c3d9cc95050",
   "metadata": {},
   "outputs": [],
   "source": [
    "def train(df_train, y_train, C=1.0):\n",
    "    dicts = df_train[categorical + numerical].to_dict(orient='records')\n",
    "    dv = DictVectorizer(sparse=False)\n",
    "    X = dv.fit_transform(dicts)\n",
    "    model = LogisticRegression(C=C, max_iter=1000)\n",
    "    model.fit(X, y_train)\n",
    "    return dv, model"
   ]
  },
  {
   "cell_type": "code",
   "execution_count": null,
   "id": "8c934d09-ed2b-49ae-99a2-f02998f7a0fd",
   "metadata": {},
   "outputs": [
    {
     "name": "stderr",
     "output_type": "stream",
     "text": [
      "/Users/abhisheksharma/mambaforge/lib/python3.10/site-packages/sklearn/linear_model/_logistic.py:814: ConvergenceWarning: lbfgs failed to converge (status=1):\n",
      "STOP: TOTAL NO. of ITERATIONS REACHED LIMIT.\n",
      "\n",
      "Increase the number of iterations (max_iter) or scale the data as shown in:\n",
      "    https://scikit-learn.org/stable/modules/preprocessing.html\n",
      "Please also refer to the documentation for alternative solver options:\n",
      "    https://scikit-learn.org/stable/modules/linear_model.html#logistic-regression\n",
      "  n_iter_i = _check_optimize_result(\n"
     ]
    }
   ],
   "source": [
    "dv, model = train(df_train, y_train)"
   ]
  },
  {
   "cell_type": "code",
   "execution_count": null,
   "id": "dd0affc6-b3e8-422e-99ed-cbb2cc09a626",
   "metadata": {},
   "outputs": [],
   "source": [
    "def predict(df, dv, model):\n",
    "    dicts = df[categorical + numerical].to_dict(orient='records')\n",
    "    X = dv.transform(dicts)\n",
    "    y_pred = model.predict_proba(X)[:, 1]\n",
    "    return y_pred"
   ]
  },
  {
   "cell_type": "code",
   "execution_count": null,
   "id": "d392cbd3-724c-4a4c-9bfa-c7d414daab03",
   "metadata": {},
   "outputs": [
    {
     "data": {
      "text/plain": [
       "array([0.0090318 , 0.20561103, 0.21333108, ..., 0.13692382, 0.79929236,\n",
       "       0.83682706])"
      ]
     },
     "execution_count": null,
     "metadata": {},
     "output_type": "execute_result"
    }
   ],
   "source": [
    "y_pred = predict(df_val, dv, model)\n",
    "y_pred"
   ]
  },
  {
   "cell_type": "code",
   "execution_count": null,
   "id": "100d54cc-1348-420b-be10-a38d00287f99",
   "metadata": {},
   "outputs": [],
   "source": [
    "from sklearn.model_selection import KFold"
   ]
  },
  {
   "cell_type": "code",
   "execution_count": null,
   "id": "9cdb97d8-5fc7-4c91-8af9-7f01f8071e8d",
   "metadata": {},
   "outputs": [],
   "source": [
    "kfold = KFold(n_splits=10, shuffle=True, random_state=42)"
   ]
  },
  {
   "cell_type": "code",
   "execution_count": null,
   "id": "c95d1c0f-a587-4dd1-8127-99b569a6cfc1",
   "metadata": {},
   "outputs": [],
   "source": [
    "train_idx, val_idx = next(kfold.split(df_full_train))"
   ]
  },
  {
   "cell_type": "code",
   "execution_count": null,
   "id": "05a504ca-3455-4226-95d0-bfad7847f61c",
   "metadata": {},
   "outputs": [
    {
     "data": {
      "text/plain": [
       "(5070, 564)"
      ]
     },
     "execution_count": null,
     "metadata": {},
     "output_type": "execute_result"
    }
   ],
   "source": [
    "len(train_idx), len(val_idx)"
   ]
  },
  {
   "cell_type": "code",
   "execution_count": null,
   "id": "b759e902-d9ad-4ea5-a27d-f8ffc5ffed48",
   "metadata": {},
   "outputs": [],
   "source": [
    "df_train = df_full_train.iloc[train_idx]\n",
    "df_val = df_full_train.iloc[train_idx]"
   ]
  },
  {
   "cell_type": "code",
   "execution_count": null,
   "id": "e37c488c-49a0-449a-94f6-9d2b508b9af8",
   "metadata": {},
   "outputs": [],
   "source": [
    "from tqdm.auto import tqdm"
   ]
  },
  {
   "cell_type": "code",
   "execution_count": null,
   "id": "cf14eba3-c55c-4e2e-a084-9b6d977bbdb4",
   "metadata": {},
   "outputs": [
    {
     "data": {
      "application/vnd.jupyter.widget-view+json": {
       "model_id": "5456730fc106422b81f8dc5c4e13e7df",
       "version_major": 2,
       "version_minor": 0
      },
      "text/plain": [
       "  0%|          | 0/6 [00:00<?, ?it/s]"
      ]
     },
     "metadata": {},
     "output_type": "display_data"
    },
    {
     "name": "stdout",
     "output_type": "stream",
     "text": [
      "C:0.001 -- scores 0.82 +- 0.02\n",
      "C:0.01 -- scores 0.83 +- 0.02\n",
      "C:0.1 -- scores 0.84 +- 0.02\n",
      "C:1.0 -- scores 0.84 +- 0.02\n",
      "C:5 -- scores 0.84 +- 0.02\n",
      "C:10 -- scores 0.84 +- 0.01\n"
     ]
    }
   ],
   "source": [
    "n_splits = 5\n",
    "C = [0.001, 0.01, 0.1, 1.0, 5, 10]\n",
    "scores = []\n",
    "kfold = KFold(n_splits=n_splits, shuffle=True, random_state=42)\n",
    "for c in tqdm(C):\n",
    "    for train_idx, val_idx in kfold.split(df_full_train):\n",
    "        df_train = df_full_train.iloc[train_idx]\n",
    "        df_val = df_full_train.iloc[val_idx]\n",
    "\n",
    "        y_train = df_train.churn.values\n",
    "        y_val = df_val.churn.values\n",
    "\n",
    "        dv, model = train(df_train, y_train, C=c)\n",
    "        y_pred = predict(df_val, dv, model)\n",
    "        auc = roc_auc_score(y_val, y_pred)\n",
    "        scores.append(auc)\n",
    "    print(f\"C:{c} -- scores {np.mean(scores):.2f} +- {np.std(scores):.2f}\")"
   ]
  },
  {
   "cell_type": "code",
   "execution_count": null,
   "id": "9b389a64-9a32-4bc9-9cfb-a62991e0c089",
   "metadata": {},
   "outputs": [
    {
     "data": {
      "text/plain": [
       "0.8572386167896259"
      ]
     },
     "execution_count": null,
     "metadata": {},
     "output_type": "execute_result"
    }
   ],
   "source": [
    "dv, model = train(df_full_train, df_full_train.churn.values, C=1.0)\n",
    "y_pred = predict(df_test, dv, model)\n",
    "roc_auc_score(y_test, y_pred)"
   ]
  }
 ],
 "metadata": {
  "kernelspec": {
   "display_name": "Python 3 (ipykernel)",
   "language": "python",
   "name": "python3"
  }
 },
 "nbformat": 4,
 "nbformat_minor": 5
}
